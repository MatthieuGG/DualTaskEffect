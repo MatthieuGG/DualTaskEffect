{
 "cells": [
  {
   "cell_type": "markdown",
   "metadata": {},
   "source": [
    "# Dual Task Effect (DTE)\n",
    "---\n",
    "[2024.07/28] V1 created  \n",
    "\n",
    "## Configurations\n",
    "First, you need to configurate several options\n",
    "- how are you raw datas? One csv per participants, or all together? See the different structures in ~/sample\n",
    "- what do you want to save? One csv per participants, or all together? Do you also want the plot?\n",
    "- what are the directions of your cognitive and motor tests? Does higher values means better or worst performance? In our synthetic exemple values, we considered \n",
    "    - \"Cognitive\" : Stroop test correct answers rate -> higher values = better performance\n",
    "    - \"Motor\" : Timed Up-and-go test -> higher values = worst performance"
   ]
  },
  {
   "cell_type": "code",
   "execution_count": 51,
   "metadata": {},
   "outputs": [],
   "source": [
    "# Set this to True if you have one CSV file for all subjects, or False if you have one CSV per subject\n",
    "allTogether = True\n",
    "\n",
    "# Set this to True if you want to save on report for all participants\n",
    "saveAllTogether = True\n",
    "# Set this to True if you want to save on report per participants\n",
    "saveIndependent = False\n",
    "\n",
    "# Set this to True if you want to save the final plot\n",
    "savePlot = True\n",
    "\n",
    "# Configuration for performance directionality of the evaluation tests\n",
    "# True = higher values are better, False = lower values are better\n",
    "performance_directionality = {\n",
    "    \"Cognitive\": True,\n",
    "    \"Motor\": False\n",
    "}\n",
    "\n",
    "# Needed libraries to import\n",
    "import pandas as pd\n",
    "import numpy as np\n",
    "import os\n",
    "import matplotlib.pyplot as plt\n",
    "\n",
    "# Define the input path (~/sample)\n",
    "path = os.path.join(os.getcwd(), 'sample')  # Path containing all .csv files\n",
    "# Define the saving path (~/results)\n",
    "results_path = os.path.join(os.getcwd(), 'results')\n",
    "os.makedirs(results_path, exist_ok=True)\n"
   ]
  },
  {
   "cell_type": "markdown",
   "metadata": {},
   "source": [
    "## Importing the data\n",
    "We then import the data - one by one, or all together depending on the way `allTogether` was defined. We also check for any missing data, and print the correct import."
   ]
  },
  {
   "cell_type": "code",
   "execution_count": 52,
   "metadata": {},
   "outputs": [
    {
     "name": "stdout",
     "output_type": "stream",
     "text": [
      "No missing values in /Users/mgg/Documents/GitHub/DualTaskEffect/sample/data.csv\n",
      "1 .csv file imported from data.csv - OK\n"
     ]
    }
   ],
   "source": [
    "# Function to check for missing values in a DataFrame and print their locations\n",
    "def check_missing_values(df, file_name):\n",
    "    if df.isnull().values.any():\n",
    "        print(f\"Missing values found in {file_name}:\")\n",
    "        missing_values = df[df.isnull().any(axis=1)]\n",
    "        for idx, row in missing_values.iterrows():\n",
    "            missing_cols = row[row.isnull()].index.tolist()\n",
    "            for col in missing_cols:\n",
    "                print(f\"  Missing value at ID: {row['ID']}, Column: {col}\")\n",
    "    else:\n",
    "        print(f\"No missing values in {file_name}\")\n",
    "\n",
    "# Function to load data from a single CSV file\n",
    "def load_single_csv(file_path):\n",
    "    df = pd.read_csv(file_path)\n",
    "    check_missing_values(df, file_path)\n",
    "    return df\n",
    "\n",
    "# Function to load data from multiple CSV files in a directory\n",
    "def load_multiple_csvs(path):\n",
    "    csv_files = [file_name for file_name in os.listdir(path) if file_name.endswith('.csv')]\n",
    "    data_dict = {}\n",
    "    for file_name in csv_files:\n",
    "        file_path = os.path.join(path, file_name)\n",
    "        df = pd.read_csv(file_path).T  # Transpose the DataFrame\n",
    "        df = df.reset_index(drop=False)\n",
    "        new_cols = df.iloc[0].tolist()\n",
    "        df = df.rename(columns=dict(zip(df.columns, new_cols)))\n",
    "        df = df.drop(df.index[0])\n",
    "        check_missing_values(df, file_name)\n",
    "        data_dict[file_name] = df\n",
    "    return data_dict\n",
    "\n",
    "# Load data\n",
    "if allTogether:\n",
    "    # Load data from a single CSV file\n",
    "    data_file = 'data.csv'\n",
    "    data_file_path = os.path.join(path, data_file)\n",
    "    if os.path.exists(data_file_path):\n",
    "        df_all = load_single_csv(data_file_path)\n",
    "        data_dict = {f\"00{id}\": df for id, df in df_all.groupby('ID')}\n",
    "        print(f\"1 .csv file imported from {data_file} - OK\")\n",
    "    else:\n",
    "        print(f\"{data_file} not found in the specified directory.\")\n",
    "else:\n",
    "    # Load data from multiple CSV files\n",
    "    csv_files = [file_name for file_name in os.listdir(path) if file_name.endswith('.csv')]\n",
    "    data_dict = load_multiple_csvs(path)\n",
    "    if len(csv_files) == len(data_dict):\n",
    "        print(f\"{len(csv_files)} .csv files imported - OK\")\n",
    "    else:\n",
    "        print(f\"Problem: {len(csv_files)} .csv files found but only {len(data_dict)} imported\")\n"
   ]
  },
  {
   "cell_type": "code",
   "execution_count": 53,
   "metadata": {},
   "outputs": [
    {
     "data": {
      "text/html": [
       "<div>\n",
       "<style scoped>\n",
       "    .dataframe tbody tr th:only-of-type {\n",
       "        vertical-align: middle;\n",
       "    }\n",
       "\n",
       "    .dataframe tbody tr th {\n",
       "        vertical-align: top;\n",
       "    }\n",
       "\n",
       "    .dataframe thead th {\n",
       "        text-align: right;\n",
       "    }\n",
       "</style>\n",
       "<table border=\"1\" class=\"dataframe\">\n",
       "  <thead>\n",
       "    <tr style=\"text-align: right;\">\n",
       "      <th></th>\n",
       "      <th>ID</th>\n",
       "      <th>Single Task - Cognitive performance</th>\n",
       "      <th>Single Task - Motor performance</th>\n",
       "      <th>Dual Task - Cognitive performance</th>\n",
       "      <th>Dual Task - Motor performance</th>\n",
       "    </tr>\n",
       "  </thead>\n",
       "  <tbody>\n",
       "    <tr>\n",
       "      <th>0</th>\n",
       "      <td>1</td>\n",
       "      <td>14.978987</td>\n",
       "      <td>15.448203</td>\n",
       "      <td>21.138984</td>\n",
       "      <td>17.903505</td>\n",
       "    </tr>\n",
       "  </tbody>\n",
       "</table>\n",
       "</div>"
      ],
      "text/plain": [
       "   ID  Single Task - Cognitive performance  Single Task - Motor performance  \\\n",
       "0   1                            14.978987                        15.448203   \n",
       "\n",
       "   Dual Task - Cognitive performance  Dual Task - Motor performance  \n",
       "0                          21.138984                      17.903505  "
      ]
     },
     "execution_count": 53,
     "metadata": {},
     "output_type": "execute_result"
    }
   ],
   "source": [
    "# Displaying one subject, for the exemple\n",
    "data_dict['001']\n"
   ]
  },
  {
   "cell_type": "markdown",
   "metadata": {},
   "source": [
    "## Computing\n",
    "It is now time for computation. Here, we calculate the Dual Task Effect (DTE), using the formula\n",
    "$$\n",
    "\\text{DTE} = \\frac{\\text{DT} - \\text{ST}}{\\text{ST}} \\times 100\n",
    "$$\n",
    "and caracterise it according to Plummer et al, 2013 ([DOI: 10.1155/2014/538602](https://onlinelibrary.wiley.com/doi/10.1155/2014/538602))  \n",
    "\n",
    "![Figure Plummer et al. 2013](/Users/mgg/Documents/GitHub/DualTaskEffect/images/DTE.jpg)\n"
   ]
  },
  {
   "cell_type": "code",
   "execution_count": 54,
   "metadata": {},
   "outputs": [],
   "source": [
    "# Creating the functions, with automatic task (Cognitive, Motor) detection\n",
    "# Dual Task Effect\n",
    "def calculate_dual_task_effect(df, task_type):\n",
    "    single_task_col = f\"Single Task - {task_type} performance\"\n",
    "    dual_task_col = f\"Dual Task - {task_type} performance\"\n",
    "    effect_col = f\"{task_type} Dual Task Effect\"\n",
    "    better_higher = performance_directionality[task_type]\n",
    "    \n",
    "    if single_task_col in df.columns and dual_task_col in df.columns:\n",
    "        if better_higher:\n",
    "            df[effect_col] = (df[dual_task_col] - df[single_task_col]) / df[single_task_col] * 100\n",
    "        else:\n",
    "            df[effect_col] = (df[single_task_col] - df[dual_task_col]) / df[single_task_col] * 100\n",
    "    else:\n",
    "        print(f\"Columns for {task_type} not found in the DataFrame\")\n",
    "    \n",
    "    return df\n",
    "\n",
    "\n",
    "# Determine the DTE category (initial and final)\n",
    "def determine_effect_category(cognitive_effect, motor_effect):\n",
    "    if cognitive_effect > 0 and motor_effect == 0:\n",
    "        return 'Cognitive facilitation'\n",
    "    elif cognitive_effect > 0 and motor_effect > 0:\n",
    "        return 'Mutual facilitation'\n",
    "    elif motor_effect > 0 and cognitive_effect == 0:\n",
    "        return 'Motor facilitation'\n",
    "    elif motor_effect > 0 and cognitive_effect < 0:\n",
    "        return 'Motor priority trade off'\n",
    "    elif motor_effect == 0 and cognitive_effect < 0:\n",
    "        return 'Cognitive interference'\n",
    "    elif motor_effect < 0 and cognitive_effect < 0:\n",
    "        return 'Mutual interference'\n",
    "    elif motor_effect < 0 and cognitive_effect == 0:\n",
    "        return 'Motor interference'\n",
    "    elif cognitive_effect > 0 and motor_effect < 0:\n",
    "        return 'Cognitive priority tradeoff'\n",
    "    elif cognitive_effect == 0 and motor_effect == 0:\n",
    "        return 'No interference'\n",
    "    return 'Unknown'\n",
    "\n",
    "\n",
    "# Apply the functions to each DataFrame in the dictionary\n",
    "for key, df in data_dict.items():\n",
    "    # DTE for Cognitive - percentage\n",
    "    df = calculate_dual_task_effect(df, \"Cognitive\")\n",
    "    # DTE for Motor - percentage\n",
    "    df = calculate_dual_task_effect(df, \"Motor\")\n",
    "    # DTE - category\n",
    "    df[\"Dual Task Effect\"] = df.apply(\n",
    "        lambda row: determine_effect_category(row[\"Cognitive Dual Task Effect\"], row[\"Motor Dual Task Effect\"]),\n",
    "        axis=1\n",
    "    )\n",
    "    \n",
    "    data_dict[key] = df\n"
   ]
  },
  {
   "cell_type": "markdown",
   "metadata": {},
   "source": [
    "## Saving and displaying the results\n",
    "It is now time to save the results, as one document for all subjects or one per subjects depending on how `saveAllTogether` and `saveIndependent` are defined."
   ]
  },
  {
   "cell_type": "code",
   "execution_count": 55,
   "metadata": {},
   "outputs": [
    {
     "name": "stdout",
     "output_type": "stream",
     "text": [
      "Saved concatenated CSV file as /Users/mgg/Documents/GitHub/DualTaskEffect/results/concatenated_data.csv\n"
     ]
    }
   ],
   "source": [
    "# Save independent files\n",
    "if saveIndependent:\n",
    "    if not os.path.exists(results_path):\n",
    "        os.makedirs(results_path)\n",
    "    for key, value in data_dict.items():\n",
    "        filename = os.path.join(results_path, f\"{key}.csv\")\n",
    "        value.to_csv(filename, index=False)\n",
    "    print(f\"Saved {len(data_dict)} independent CSV files in {results_path}\")\n",
    "\n",
    "# Save concatenated file\n",
    "if saveAllTogether:\n",
    "    concatenated_df = pd.concat(data_dict.values(), axis=0)\n",
    "    concatenated_df = concatenated_df.sort_values(by=['ID'])\n",
    "    concatenated_filename = os.path.join(results_path, \"concatenated_data.csv\")\n",
    "    concatenated_df.to_csv(concatenated_filename, index=False)\n",
    "    print(f\"Saved concatenated CSV file as {concatenated_filename}\")\n"
   ]
  },
  {
   "cell_type": "code",
   "execution_count": 56,
   "metadata": {},
   "outputs": [
    {
     "data": {
      "text/html": [
       "<div>\n",
       "<style scoped>\n",
       "    .dataframe tbody tr th:only-of-type {\n",
       "        vertical-align: middle;\n",
       "    }\n",
       "\n",
       "    .dataframe tbody tr th {\n",
       "        vertical-align: top;\n",
       "    }\n",
       "\n",
       "    .dataframe thead th {\n",
       "        text-align: right;\n",
       "    }\n",
       "</style>\n",
       "<table border=\"1\" class=\"dataframe\">\n",
       "  <thead>\n",
       "    <tr style=\"text-align: right;\">\n",
       "      <th></th>\n",
       "      <th>ID</th>\n",
       "      <th>Single Task - Cognitive performance</th>\n",
       "      <th>Single Task - Motor performance</th>\n",
       "      <th>Dual Task - Cognitive performance</th>\n",
       "      <th>Dual Task - Motor performance</th>\n",
       "      <th>Cognitive Dual Task Effect</th>\n",
       "      <th>Motor Dual Task Effect</th>\n",
       "      <th>Dual Task Effect</th>\n",
       "    </tr>\n",
       "  </thead>\n",
       "  <tbody>\n",
       "    <tr>\n",
       "      <th>0</th>\n",
       "      <td>1</td>\n",
       "      <td>14.978987</td>\n",
       "      <td>15.448203</td>\n",
       "      <td>21.138984</td>\n",
       "      <td>17.903505</td>\n",
       "      <td>41.124259</td>\n",
       "      <td>-15.893771</td>\n",
       "      <td>Cognitive priority tradeoff</td>\n",
       "    </tr>\n",
       "    <tr>\n",
       "      <th>1</th>\n",
       "      <td>2</td>\n",
       "      <td>13.480289</td>\n",
       "      <td>19.578881</td>\n",
       "      <td>14.488541</td>\n",
       "      <td>14.752920</td>\n",
       "      <td>7.479452</td>\n",
       "      <td>24.648808</td>\n",
       "      <td>Mutual facilitation</td>\n",
       "    </tr>\n",
       "    <tr>\n",
       "      <th>2</th>\n",
       "      <td>3</td>\n",
       "      <td>15.442139</td>\n",
       "      <td>12.067792</td>\n",
       "      <td>11.146460</td>\n",
       "      <td>7.745180</td>\n",
       "      <td>-27.817900</td>\n",
       "      <td>35.819406</td>\n",
       "      <td>Motor priority trade off</td>\n",
       "    </tr>\n",
       "    <tr>\n",
       "      <th>3</th>\n",
       "      <td>4</td>\n",
       "      <td>11.903323</td>\n",
       "      <td>15.022998</td>\n",
       "      <td>7.755402</td>\n",
       "      <td>16.654646</td>\n",
       "      <td>-34.846753</td>\n",
       "      <td>-10.861003</td>\n",
       "      <td>Mutual interference</td>\n",
       "    </tr>\n",
       "    <tr>\n",
       "      <th>4</th>\n",
       "      <td>5</td>\n",
       "      <td>10.402516</td>\n",
       "      <td>15.414289</td>\n",
       "      <td>15.576375</td>\n",
       "      <td>18.255695</td>\n",
       "      <td>49.736608</td>\n",
       "      <td>-18.433580</td>\n",
       "      <td>Cognitive priority tradeoff</td>\n",
       "    </tr>\n",
       "  </tbody>\n",
       "</table>\n",
       "</div>"
      ],
      "text/plain": [
       "   ID  Single Task - Cognitive performance  Single Task - Motor performance  \\\n",
       "0   1                            14.978987                        15.448203   \n",
       "1   2                            13.480289                        19.578881   \n",
       "2   3                            15.442139                        12.067792   \n",
       "3   4                            11.903323                        15.022998   \n",
       "4   5                            10.402516                        15.414289   \n",
       "\n",
       "   Dual Task - Cognitive performance  Dual Task - Motor performance  \\\n",
       "0                          21.138984                      17.903505   \n",
       "1                          14.488541                      14.752920   \n",
       "2                          11.146460                       7.745180   \n",
       "3                           7.755402                      16.654646   \n",
       "4                          15.576375                      18.255695   \n",
       "\n",
       "   Cognitive Dual Task Effect  Motor Dual Task Effect  \\\n",
       "0                   41.124259              -15.893771   \n",
       "1                    7.479452               24.648808   \n",
       "2                  -27.817900               35.819406   \n",
       "3                  -34.846753              -10.861003   \n",
       "4                   49.736608              -18.433580   \n",
       "\n",
       "              Dual Task Effect  \n",
       "0  Cognitive priority tradeoff  \n",
       "1          Mutual facilitation  \n",
       "2     Motor priority trade off  \n",
       "3          Mutual interference  \n",
       "4  Cognitive priority tradeoff  "
      ]
     },
     "execution_count": 56,
     "metadata": {},
     "output_type": "execute_result"
    }
   ],
   "source": [
    "# Displaying the general results (5 first subjects)\n",
    "concatenated_df.head()\n"
   ]
  },
  {
   "cell_type": "markdown",
   "metadata": {},
   "source": [
    "## Graphical representation\n",
    "It's now time to represent every participants' DTP as a vector on the same plot, and to print the starting and stoping point according to Plummer et al., 2013. "
   ]
  },
  {
   "cell_type": "code",
   "execution_count": 57,
   "metadata": {},
   "outputs": [
    {
     "data": {
      "image/png": "[encoded data removed]",
      "text/plain": [
       "<Figure size 640x480 with 1 Axes>"
      ]
     },
     "metadata": {},
     "output_type": "display_data"
    },
    {
     "name": "stdout",
     "output_type": "stream",
     "text": [
      "Participant 1    : Dual Task Effect (DTE) = Cognitive priority tradeoff\n",
      "Participant 2    : Dual Task Effect (DTE) = Mutual facilitation\n",
      "Participant 3    : Dual Task Effect (DTE) = Motor priority trade off\n",
      "Participant 4    : Dual Task Effect (DTE) = Mutual interference\n",
      "Participant 5    : Dual Task Effect (DTE) = Cognitive priority tradeoff\n",
      "Participant 6    : Dual Task Effect (DTE) = Mutual interference\n",
      "Participant 7    : Dual Task Effect (DTE) = Motor priority trade off\n",
      "Participant 8    : Dual Task Effect (DTE) = Mutual facilitation\n",
      "Participant 9    : Dual Task Effect (DTE) = Mutual facilitation\n",
      "Participant 10   : Dual Task Effect (DTE) = Motor priority trade off\n"
     ]
    }
   ],
   "source": [
    "# Créer la figure et les axes\n",
    "fig, ax = plt.subplots()\n",
    "\n",
    "# Générer une colormap avec autant de couleurs qu'il y a d'ID uniques\n",
    "num_colors = len(concatenated_df['ID'].unique())\n",
    "colors = plt.cm.rainbow(np.linspace(0, 1, num_colors))\n",
    "\n",
    "# Tracer un point pour chaque participant\n",
    "for i, row in concatenated_df.iterrows():\n",
    "    ax.scatter(row['Cognitive Dual Task Effect'], row['Motor Dual Task Effect'], color=colors[i % num_colors], label=f'ID {row[\"ID\"]}')\n",
    "\n",
    "# Ajouter des labels et des titres\n",
    "ax.axhline(0, color='black', linewidth=0.5)\n",
    "ax.axvline(0, color='black', linewidth=0.5)\n",
    "ax.set_title('Dual Task Effect (DTE)')\n",
    "ax.set_xlabel('Cognitive Dual Task Effect')\n",
    "ax.set_ylabel('Motor Dual Task Effect')\n",
    "\n",
    "# Afficher la légende\n",
    "ax.legend(loc='center left', bbox_to_anchor=(1, 0.5))\n",
    "\n",
    "# Afficher le graphique\n",
    "plt.show()\n",
    "\n",
    "# Imprimer les informations pour chaque participant\n",
    "for i, row in concatenated_df.iterrows():\n",
    "    print(f\"Participant {row['ID']:<5}: Dual Task Effect (DTE) = {row['Dual Task Effect']}\")\n"
   ]
  },
  {
   "cell_type": "markdown",
   "metadata": {},
   "source": [
    "## Saving the plot"
   ]
  },
  {
   "cell_type": "code",
   "execution_count": 58,
   "metadata": {},
   "outputs": [
    {
     "name": "stdout",
     "output_type": "stream",
     "text": [
      "/Users/mgg/Documents/GitHub/DualTaskEffect/results/DTE_plot.jpg saved\n"
     ]
    }
   ],
   "source": [
    "# Save or show the plot\n",
    "if savePlot:\n",
    "    results_path = os.path.join(os.getcwd(), 'results')\n",
    "    plot_filename = os.path.join(results_path, 'DTE_plot.jpg')\n",
    "    fig.savefig(plot_filename, format='jpg', bbox_inches='tight')\n",
    "    print(f'{plot_filename} saved')\n",
    "else:\n",
    "    pass\n"
   ]
  }
 ],
 "metadata": {
  "kernelspec": {
   "display_name": "base",
   "language": "python",
   "name": "python3"
  },
  "language_info": {
   "codemirror_mode": {
    "name": "ipython",
    "version": 3
   },
   "file_extension": ".py",
   "mimetype": "text/x-python",
   "name": "python",
   "nbconvert_exporter": "python",
   "pygments_lexer": "ipython3",
   "version": "3.9.13"
  }
 },
 "nbformat": 4,
 "nbformat_minor": 2
}
